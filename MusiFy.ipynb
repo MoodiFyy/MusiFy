{
  "nbformat": 4,
  "nbformat_minor": 0,
  "metadata": {
    "colab": {
      "provenance": [],
      "gpuType": "T4"
    },
    "kernelspec": {
      "name": "python3",
      "display_name": "Python 3"
    },
    "language_info": {
      "name": "python"
    },
    "accelerator": "GPU"
  },
  "cells": [
    {
      "cell_type": "code",
      "source": [
        "import os, glob, warnings\n",
        "warnings.filterwarnings('ignore')\n",
        "\n",
        "import numpy as np\n",
        "import librosa, librosa.display\n",
        "\n",
        "# Optional noise reduction; set USE_NOISE_REDUCTION=True to enable\n",
        "try:\n",
        "    import noisereduce as nr\n",
        "    _HAS_NR = True\n",
        "except Exception:\n",
        "    _HAS_NR = False\n",
        "\n",
        "from tqdm import tqdm\n",
        "from sklearn.model_selection import train_test_split\n",
        "from sklearn.preprocessing import LabelEncoder\n",
        "from sklearn.metrics import classification_report, confusion_matrix, accuracy_score\n",
        "\n",
        "import tensorflow as tf\n",
        "from tensorflow.keras.models import Sequential\n",
        "from tensorflow.keras.layers import (Conv2D, MaxPooling2D, AveragePooling2D,\n",
        "                                     Dense, Flatten, Dropout, BatchNormalization)\n",
        "from tensorflow.keras.callbacks import EarlyStopping, ReduceLROnPlateau, ModelCheckpoint\n",
        "\n",
        "# -----------------------------\n",
        "# 0) Directory scaffold (once)\n",
        "# -----------------------------\n",
        "def create_project_structure():\n",
        "    for d in ['data/gtzan','models','results','notebooks','scripts']:\n",
        "        os.makedirs(d, exist_ok=True)\n",
        "create_project_structure()\n",
        "\n",
        "# -----------------------------\n",
        "# 1) Locate dataset audio path\n",
        "# -----------------------------\n",
        "def find_audio_files(dataset_root):\n",
        "    \"\"\"Find the genres folder containing the .wav files.\"\"\"\n",
        "    candidate_paths = [\n",
        "        os.path.join(dataset_root, \"genres_original\"),\n",
        "        os.path.join(dataset_root, \"Data\", \"genres_original\"),\n",
        "        os.path.join(dataset_root, \"genres\"),\n",
        "        dataset_root\n",
        "    ]\n",
        "    genres = ['blues','classical','country','disco','hiphop','jazz','metal','pop','reggae','rock']\n",
        "\n",
        "    for p in candidate_paths:\n",
        "        if os.path.isdir(p) and any(g in os.listdir(p) for g in genres):\n",
        "            print(f\"✅ Found audio files at: {p}\")\n",
        "            return p\n",
        "\n",
        "    print(\"Searching recursively…\")\n",
        "    for root, dirs, files in os.walk(dataset_root):\n",
        "        if sum(f.endswith('.wav') for f in files) >= 100:  # heuristic\n",
        "            print(f\"✅ Found many .wav files at: {root}\")\n",
        "            return root\n",
        "\n",
        "    raise FileNotFoundError(\"❌ Could not find GTZAN .wav files.\")\n",
        "\n",
        "# Prefer the official Kaggle mount if available; else use kagglehub cache if you used it\n",
        "default_roots = [\n",
        "    \"/kaggle/input/gtzan-dataset-music-genre-classification\",\n",
        "    os.path.expanduser(\"~/.cache/kagglehub/datasets/andradaolteanu/gtzan-dataset-music-genre-classification\")\n",
        "]\n",
        "dataset_root = None\n",
        "for r in default_roots:\n",
        "    if os.path.exists(r):\n",
        "        dataset_root = r\n",
        "        break\n",
        "if dataset_root is None:\n",
        "    # Fallback: current working dir\n",
        "    dataset_root = os.getcwd()\n",
        "\n",
        "audio_path = find_audio_files(dataset_root)\n",
        "\n",
        "# -----------------------------\n",
        "# 2) Feature extraction\n",
        "# -----------------------------\n",
        "GENRES = ['blues','classical','country','disco','hiphop','jazz','metal','pop','reggae','rock']\n",
        "\n",
        "def extract_logmel(\n",
        "    y, sr,\n",
        "    n_fft=1024, hop_length=512, n_mels=128, win='hann',\n",
        "    target_seconds=30.0, use_trim=True, use_noise_reduction=False\n",
        "):\n",
        "    \"\"\"\n",
        "    Returns log-mel spectrogram (dB), shape [n_mels, T_fixed]\n",
        "    \"\"\"\n",
        "    if use_trim:\n",
        "        y, _ = librosa.effects.trim(y, top_db=20)\n",
        "\n",
        "    # pad/clip to target duration for consistency\n",
        "    target_len = int(target_seconds * sr)\n",
        "    if len(y) < target_len:\n",
        "        y = np.pad(y, (0, target_len - len(y)))\n",
        "    else:\n",
        "        y = y[:target_len]\n",
        "\n",
        "    if use_noise_reduction and _HAS_NR:\n",
        "        noise = y[: int(0.5 * sr)]\n",
        "        y = nr.reduce_noise(y=y, y_noise=noise, sr=sr, prop_decrease=1.0)\n",
        "\n",
        "    # normalize peak to avoid scale issues\n",
        "    peak = np.max(np.abs(y))\n",
        "    if peak > 0:\n",
        "        y = 0.99 * y / peak\n",
        "\n",
        "    m = librosa.feature.melspectrogram(\n",
        "        y=y, sr=sr, n_fft=n_fft, hop_length=hop_length, n_mels=n_mels, window=win\n",
        "    )\n",
        "    m_db = librosa.power_to_db(m, ref=np.max)\n",
        "\n",
        "    # compute target width analytically (~ (#frames) ≈ 1 + floor((N - n_fft)/hop))\n",
        "    T_fixed = 1 + (len(y) - n_fft) // hop_length\n",
        "    if m_db.shape[1] < T_fixed:\n",
        "        pad = T_fixed - m_db.shape[1]\n",
        "        m_db = np.pad(m_db, ((0,0),(0,pad)), mode='constant')\n",
        "    else:\n",
        "        m_db = m_db[:, :T_fixed]\n",
        "\n",
        "    return m_db\n",
        "\n",
        "def load_gtzan_from_path(audio_path, max_files_per_genre=100,\n",
        "                         sr=22050, n_fft=1024, hop_length=512, n_mels=128,\n",
        "                         use_trim=True, use_noise_reduction=False):\n",
        "    \"\"\"\n",
        "    Loads GTZAN, extracts log-mel features, returns X [N, n_mels, T, 1] and labels y (str list).\n",
        "    \"\"\"\n",
        "    items = os.listdir(audio_path)\n",
        "    available_genres = [g for g in GENRES if os.path.isdir(os.path.join(audio_path, g))]\n",
        "    if not available_genres:\n",
        "        # search one level deeper\n",
        "        for sub in items:\n",
        "            sp = os.path.join(audio_path, sub)\n",
        "            if os.path.isdir(sp):\n",
        "                sub_items = os.listdir(sp)\n",
        "                tmp = [g for g in GENRES if g in sub_items]\n",
        "                if tmp:\n",
        "                    audio_path = sp\n",
        "                    available_genres = tmp\n",
        "                    break\n",
        "    if not available_genres:\n",
        "        raise RuntimeError(\"No genre folders found under audio_path.\")\n",
        "\n",
        "    print(f\"\\nLoading features from: {audio_path}\")\n",
        "    for g in GENRES:\n",
        "        p = os.path.join(audio_path, g)\n",
        "        msg = f\"{g:10s}: \"\n",
        "        if os.path.isdir(p):\n",
        "            msg += f\"{len(glob.glob(os.path.join(p,'*.wav')))} files\"\n",
        "        else:\n",
        "            msg += \"⚠️ missing\"\n",
        "        print(msg)\n",
        "\n",
        "    X, y = [], []\n",
        "    for g in available_genres:\n",
        "        files = sorted(glob.glob(os.path.join(audio_path, g, \"*.wav\")))[:max_files_per_genre]\n",
        "        print(f\"\\n→ {g}: {len(files)} files\")\n",
        "        for fp in tqdm(files, desc=g):\n",
        "            try:\n",
        "                audio, _ = librosa.load(fp, sr=sr, mono=True)\n",
        "                m_db = extract_logmel(\n",
        "                    audio, sr, n_fft=n_fft, hop_length=hop_length, n_mels=n_mels,\n",
        "                    use_trim=use_trim, use_noise_reduction=use_noise_reduction\n",
        "                )\n",
        "                X.append(m_db.astype(np.float32))\n",
        "                y.append(g)\n",
        "            except Exception as e:\n",
        "                print(f\"   Skip {os.path.basename(fp)}: {e}\")\n",
        "\n",
        "    X = np.array(X, dtype=np.float32)\n",
        "    y = np.array(y, dtype=object)\n",
        "    # add channel dim\n",
        "    X = X[..., np.newaxis]\n",
        "    print(f\"\\n✅ Loaded: X={X.shape} (N, {n_mels}, T, 1), y={y.shape}\")\n",
        "    return X, y\n",
        "\n",
        "# ---- Run extraction (set noise reduction as you like) ----\n",
        "X, y = load_gtzan_from_path(\n",
        "    audio_path,\n",
        "    max_files_per_genre=100,   # up to 100 per genre (GTZAN has 100/genre)\n",
        "    sr=22050,\n",
        "    n_fft=1024,\n",
        "    hop_length=512,\n",
        "    n_mels=128,\n",
        "    use_trim=True,\n",
        "    use_noise_reduction=False   # set True if you want (slower)\n",
        ")\n",
        "\n",
        "# -----------------------------\n",
        "# 3) Encode labels & split\n",
        "# -----------------------------\n",
        "le = LabelEncoder()\n",
        "y_int = le.fit_transform(y)\n",
        "num_classes = len(le.classes_)\n",
        "print(\"Classes:\", list(le.classes_))\n",
        "\n",
        "# Proper stratify: use integer labels (NOT one-hot)\n",
        "X_train, X_test, y_train_int, y_test_int = train_test_split(\n",
        "    X, y_int, test_size=0.3, random_state=42, stratify=y_int\n",
        ")\n",
        "\n",
        "# One-hot for training\n",
        "y_train = tf.keras.utils.to_categorical(y_train_int, num_classes=num_classes)\n",
        "y_test  = tf.keras.utils.to_categorical(y_test_int,  num_classes=num_classes)\n",
        "\n",
        "# -----------------------------\n",
        "# 4) Normalization\n",
        "# -----------------------------\n",
        "# Log-mels are in dB (<= 0). Map each sample to [0,1] using per-sample min/max for stability.\n",
        "def minmax01(arr):\n",
        "    a_min = arr.min()\n",
        "    a_max = arr.max()\n",
        "    if a_max > a_min:\n",
        "        return (arr - a_min) / (a_max - a_min)\n",
        "    return np.zeros_like(arr)\n",
        "\n",
        "X_train = np.array([minmax01(x) for x in X_train], dtype=np.float32)\n",
        "X_test  = np.array([minmax01(x) for x in X_test ], dtype=np.float32)\n",
        "\n",
        "print(\"Shapes after split/normalize:\",\n",
        "      X_train.shape, y_train.shape, X_test.shape, y_test.shape)\n",
        "\n",
        "# -----------------------------\n",
        "# 5) Model definition (compact CNN)\n",
        "# -----------------------------\n",
        "def build_cnn(input_shape, num_classes):\n",
        "    \"\"\"\n",
        "    A memory-efficient CNN that progressively downsamples the (time) axis.\n",
        "    \"\"\"\n",
        "    model = Sequential([\n",
        "        # Block 1\n",
        "        Conv2D(16, (3,3), activation='relu', padding='same', input_shape=input_shape),\n",
        "        BatchNormalization(),\n",
        "        MaxPooling2D((2,2)),\n",
        "\n",
        "        # Block 2\n",
        "        Conv2D(32, (3,3), activation='relu', padding='same'),\n",
        "        BatchNormalization(),\n",
        "        MaxPooling2D((2,2)),\n",
        "\n",
        "        # Block 3\n",
        "        Conv2D(64, (3,3), activation='relu', padding='same'),\n",
        "        BatchNormalization(),\n",
        "        MaxPooling2D((2,2)),\n",
        "\n",
        "        # Block 4\n",
        "        Conv2D(128, (3,3), activation='relu', padding='same'),\n",
        "        BatchNormalization(),\n",
        "        AveragePooling2D((2,2)),\n",
        "\n",
        "        Dropout(0.3),\n",
        "        Flatten(),\n",
        "        Dense(128, activation='relu'),\n",
        "        Dropout(0.3),\n",
        "        Dense(num_classes, activation='softmax')\n",
        "    ])\n",
        "    opt = tf.keras.optimizers.Adam(learning_rate=1e-3)\n",
        "    model.compile(optimizer=opt, loss='categorical_crossentropy', metrics=['accuracy'])\n",
        "    return model\n",
        "\n",
        "input_shape = X_train.shape[1:]  # (128, T, 1)\n",
        "model = build_cnn(input_shape, num_classes)\n",
        "model.summary()\n",
        "\n",
        "# -----------------------------\n",
        "# 6) Training\n",
        "# -----------------------------\n",
        "callbacks = [\n",
        "    EarlyStopping(monitor='val_accuracy', patience=8, restore_best_weights=True, verbose=1),\n",
        "    ReduceLROnPlateau(monitor='val_loss', factor=0.5, patience=4, min_lr=1e-6, verbose=1),\n",
        "    ModelCheckpoint('models/best_model.h5', monitor='val_accuracy', save_best_only=True, verbose=1)\n",
        "]\n",
        "\n",
        "history = model.fit(\n",
        "    X_train, y_train,\n",
        "    validation_data=(X_test, y_test),\n",
        "    epochs=40,\n",
        "    batch_size=16,       # smaller batch helps with long time axes\n",
        "    callbacks=callbacks,\n",
        "    verbose=1\n",
        ")\n",
        "\n",
        "print(\"✅ Training complete. Best model -> models/best_model.h5\")\n",
        "\n",
        "# -----------------------------\n",
        "# 7) Evaluation\n",
        "# -----------------------------\n",
        "y_pred_probs = model.predict(X_test)\n",
        "y_pred_int = np.argmax(y_pred_probs, axis=1)\n",
        "\n",
        "acc = accuracy_score(y_test_int, y_pred_int)\n",
        "print(f\"\\nTest Accuracy: {acc:.4f}\\n\")\n",
        "\n",
        "print(\"Classification Report:\")\n",
        "print(classification_report(y_test_int, y_pred_int, target_names=list(le.classes_)))\n",
        "\n",
        "print(\"Confusion Matrix:\")\n",
        "print(confusion_matrix(y_test_int, y_pred_int))\n"
      ],
      "metadata": {
        "colab": {
          "base_uri": "https://localhost:8080/",
          "height": 1000
        },
        "id": "_nukjulfKfYf",
        "outputId": "c01194f6-6cb3-42a6-b870-ca3f0c2ac082"
      },
      "execution_count": null,
      "outputs": [
        {
          "output_type": "stream",
          "name": "stdout",
          "text": [
            "✅ Found audio files at: /kaggle/input/gtzan-dataset-music-genre-classification/Data/genres_original\n",
            "\n",
            "Loading features from: /kaggle/input/gtzan-dataset-music-genre-classification/Data/genres_original\n",
            "blues     : 100 files\n",
            "classical : 100 files\n",
            "country   : 100 files\n",
            "disco     : 100 files\n",
            "hiphop    : 100 files\n",
            "jazz      : 100 files\n",
            "metal     : 100 files\n",
            "pop       : 100 files\n",
            "reggae    : 100 files\n",
            "rock      : 100 files\n",
            "\n",
            "→ blues: 100 files\n"
          ]
        },
        {
          "output_type": "stream",
          "name": "stderr",
          "text": [
            "blues: 100%|██████████| 100/100 [00:05<00:00, 19.89it/s]\n"
          ]
        },
        {
          "output_type": "stream",
          "name": "stdout",
          "text": [
            "\n",
            "→ classical: 100 files\n"
          ]
        },
        {
          "output_type": "stream",
          "name": "stderr",
          "text": [
            "classical: 100%|██████████| 100/100 [00:03<00:00, 28.31it/s]\n"
          ]
        },
        {
          "output_type": "stream",
          "name": "stdout",
          "text": [
            "\n",
            "→ country: 100 files\n"
          ]
        },
        {
          "output_type": "stream",
          "name": "stderr",
          "text": [
            "country: 100%|██████████| 100/100 [00:03<00:00, 28.88it/s]\n"
          ]
        },
        {
          "output_type": "stream",
          "name": "stdout",
          "text": [
            "\n",
            "→ disco: 100 files\n"
          ]
        },
        {
          "output_type": "stream",
          "name": "stderr",
          "text": [
            "disco: 100%|██████████| 100/100 [00:04<00:00, 20.34it/s]\n"
          ]
        },
        {
          "output_type": "stream",
          "name": "stdout",
          "text": [
            "\n",
            "→ hiphop: 100 files\n"
          ]
        },
        {
          "output_type": "stream",
          "name": "stderr",
          "text": [
            "hiphop: 100%|██████████| 100/100 [00:03<00:00, 27.87it/s]\n"
          ]
        },
        {
          "output_type": "stream",
          "name": "stdout",
          "text": [
            "\n",
            "→ jazz: 100 files\n"
          ]
        },
        {
          "output_type": "stream",
          "name": "stderr",
          "text": [
            "jazz:  61%|██████    | 61/100 [00:02<00:01, 21.82it/s]"
          ]
        },
        {
          "output_type": "stream",
          "name": "stdout",
          "text": [
            "   Skip jazz.00054.wav: \n"
          ]
        },
        {
          "output_type": "stream",
          "name": "stderr",
          "text": [
            "jazz: 100%|██████████| 100/100 [00:03<00:00, 27.11it/s]\n"
          ]
        },
        {
          "output_type": "stream",
          "name": "stdout",
          "text": [
            "\n",
            "→ metal: 100 files\n"
          ]
        },
        {
          "output_type": "stream",
          "name": "stderr",
          "text": [
            "metal: 100%|██████████| 100/100 [00:04<00:00, 20.45it/s]\n"
          ]
        },
        {
          "output_type": "stream",
          "name": "stdout",
          "text": [
            "\n",
            "→ pop: 100 files\n"
          ]
        },
        {
          "output_type": "stream",
          "name": "stderr",
          "text": [
            "pop: 100%|██████████| 100/100 [00:03<00:00, 28.87it/s]\n"
          ]
        },
        {
          "output_type": "stream",
          "name": "stdout",
          "text": [
            "\n",
            "→ reggae: 100 files\n"
          ]
        },
        {
          "output_type": "stream",
          "name": "stderr",
          "text": [
            "reggae: 100%|██████████| 100/100 [00:03<00:00, 28.41it/s]\n"
          ]
        },
        {
          "output_type": "stream",
          "name": "stdout",
          "text": [
            "\n",
            "→ rock: 100 files\n"
          ]
        },
        {
          "output_type": "stream",
          "name": "stderr",
          "text": [
            "rock: 100%|██████████| 100/100 [00:04<00:00, 22.29it/s]\n"
          ]
        },
        {
          "output_type": "stream",
          "name": "stdout",
          "text": [
            "\n",
            "✅ Loaded: X=(999, 128, 1290, 1) (N, 128, T, 1), y=(999,)\n",
            "Classes: ['blues', 'classical', 'country', 'disco', 'hiphop', 'jazz', 'metal', 'pop', 'reggae', 'rock']\n",
            "Shapes after split/normalize: (699, 128, 1290, 1) (699, 10) (300, 128, 1290, 1) (300, 10)\n"
          ]
        },
        {
          "output_type": "display_data",
          "data": {
            "text/plain": [
              "\u001b[1mModel: \"sequential\"\u001b[0m\n"
            ],
            "text/html": [
              "<pre style=\"white-space:pre;overflow-x:auto;line-height:normal;font-family:Menlo,'DejaVu Sans Mono',consolas,'Courier New',monospace\"><span style=\"font-weight: bold\">Model: \"sequential\"</span>\n",
              "</pre>\n"
            ]
          },
          "metadata": {}
        },
        {
          "output_type": "display_data",
          "data": {
            "text/plain": [
              "┏━━━━━━━━━━━━━━━━━━━━━━━━━━━━━━━━━┳━━━━━━━━━━━━━━━━━━━━━━━━┳━━━━━━━━━━━━━━━┓\n",
              "┃\u001b[1m \u001b[0m\u001b[1mLayer (type)                   \u001b[0m\u001b[1m \u001b[0m┃\u001b[1m \u001b[0m\u001b[1mOutput Shape          \u001b[0m\u001b[1m \u001b[0m┃\u001b[1m \u001b[0m\u001b[1m      Param #\u001b[0m\u001b[1m \u001b[0m┃\n",
              "┡━━━━━━━━━━━━━━━━━━━━━━━━━━━━━━━━━╇━━━━━━━━━━━━━━━━━━━━━━━━╇━━━━━━━━━━━━━━━┩\n",
              "│ conv2d (\u001b[38;5;33mConv2D\u001b[0m)                 │ (\u001b[38;5;45mNone\u001b[0m, \u001b[38;5;34m128\u001b[0m, \u001b[38;5;34m1290\u001b[0m, \u001b[38;5;34m16\u001b[0m)  │           \u001b[38;5;34m160\u001b[0m │\n",
              "├─────────────────────────────────┼────────────────────────┼───────────────┤\n",
              "│ batch_normalization             │ (\u001b[38;5;45mNone\u001b[0m, \u001b[38;5;34m128\u001b[0m, \u001b[38;5;34m1290\u001b[0m, \u001b[38;5;34m16\u001b[0m)  │            \u001b[38;5;34m64\u001b[0m │\n",
              "│ (\u001b[38;5;33mBatchNormalization\u001b[0m)            │                        │               │\n",
              "├─────────────────────────────────┼────────────────────────┼───────────────┤\n",
              "│ max_pooling2d (\u001b[38;5;33mMaxPooling2D\u001b[0m)    │ (\u001b[38;5;45mNone\u001b[0m, \u001b[38;5;34m64\u001b[0m, \u001b[38;5;34m645\u001b[0m, \u001b[38;5;34m16\u001b[0m)    │             \u001b[38;5;34m0\u001b[0m │\n",
              "├─────────────────────────────────┼────────────────────────┼───────────────┤\n",
              "│ conv2d_1 (\u001b[38;5;33mConv2D\u001b[0m)               │ (\u001b[38;5;45mNone\u001b[0m, \u001b[38;5;34m64\u001b[0m, \u001b[38;5;34m645\u001b[0m, \u001b[38;5;34m32\u001b[0m)    │         \u001b[38;5;34m4,640\u001b[0m │\n",
              "├─────────────────────────────────┼────────────────────────┼───────────────┤\n",
              "│ batch_normalization_1           │ (\u001b[38;5;45mNone\u001b[0m, \u001b[38;5;34m64\u001b[0m, \u001b[38;5;34m645\u001b[0m, \u001b[38;5;34m32\u001b[0m)    │           \u001b[38;5;34m128\u001b[0m │\n",
              "│ (\u001b[38;5;33mBatchNormalization\u001b[0m)            │                        │               │\n",
              "├─────────────────────────────────┼────────────────────────┼───────────────┤\n",
              "│ max_pooling2d_1 (\u001b[38;5;33mMaxPooling2D\u001b[0m)  │ (\u001b[38;5;45mNone\u001b[0m, \u001b[38;5;34m32\u001b[0m, \u001b[38;5;34m322\u001b[0m, \u001b[38;5;34m32\u001b[0m)    │             \u001b[38;5;34m0\u001b[0m │\n",
              "├─────────────────────────────────┼────────────────────────┼───────────────┤\n",
              "│ conv2d_2 (\u001b[38;5;33mConv2D\u001b[0m)               │ (\u001b[38;5;45mNone\u001b[0m, \u001b[38;5;34m32\u001b[0m, \u001b[38;5;34m322\u001b[0m, \u001b[38;5;34m64\u001b[0m)    │        \u001b[38;5;34m18,496\u001b[0m │\n",
              "├─────────────────────────────────┼────────────────────────┼───────────────┤\n",
              "│ batch_normalization_2           │ (\u001b[38;5;45mNone\u001b[0m, \u001b[38;5;34m32\u001b[0m, \u001b[38;5;34m322\u001b[0m, \u001b[38;5;34m64\u001b[0m)    │           \u001b[38;5;34m256\u001b[0m │\n",
              "│ (\u001b[38;5;33mBatchNormalization\u001b[0m)            │                        │               │\n",
              "├─────────────────────────────────┼────────────────────────┼───────────────┤\n",
              "│ max_pooling2d_2 (\u001b[38;5;33mMaxPooling2D\u001b[0m)  │ (\u001b[38;5;45mNone\u001b[0m, \u001b[38;5;34m16\u001b[0m, \u001b[38;5;34m161\u001b[0m, \u001b[38;5;34m64\u001b[0m)    │             \u001b[38;5;34m0\u001b[0m │\n",
              "├─────────────────────────────────┼────────────────────────┼───────────────┤\n",
              "│ conv2d_3 (\u001b[38;5;33mConv2D\u001b[0m)               │ (\u001b[38;5;45mNone\u001b[0m, \u001b[38;5;34m16\u001b[0m, \u001b[38;5;34m161\u001b[0m, \u001b[38;5;34m128\u001b[0m)   │        \u001b[38;5;34m73,856\u001b[0m │\n",
              "├─────────────────────────────────┼────────────────────────┼───────────────┤\n",
              "│ batch_normalization_3           │ (\u001b[38;5;45mNone\u001b[0m, \u001b[38;5;34m16\u001b[0m, \u001b[38;5;34m161\u001b[0m, \u001b[38;5;34m128\u001b[0m)   │           \u001b[38;5;34m512\u001b[0m │\n",
              "│ (\u001b[38;5;33mBatchNormalization\u001b[0m)            │                        │               │\n",
              "├─────────────────────────────────┼────────────────────────┼───────────────┤\n",
              "│ average_pooling2d               │ (\u001b[38;5;45mNone\u001b[0m, \u001b[38;5;34m8\u001b[0m, \u001b[38;5;34m80\u001b[0m, \u001b[38;5;34m128\u001b[0m)     │             \u001b[38;5;34m0\u001b[0m │\n",
              "│ (\u001b[38;5;33mAveragePooling2D\u001b[0m)              │                        │               │\n",
              "├─────────────────────────────────┼────────────────────────┼───────────────┤\n",
              "│ dropout (\u001b[38;5;33mDropout\u001b[0m)               │ (\u001b[38;5;45mNone\u001b[0m, \u001b[38;5;34m8\u001b[0m, \u001b[38;5;34m80\u001b[0m, \u001b[38;5;34m128\u001b[0m)     │             \u001b[38;5;34m0\u001b[0m │\n",
              "├─────────────────────────────────┼────────────────────────┼───────────────┤\n",
              "│ flatten (\u001b[38;5;33mFlatten\u001b[0m)               │ (\u001b[38;5;45mNone\u001b[0m, \u001b[38;5;34m81920\u001b[0m)          │             \u001b[38;5;34m0\u001b[0m │\n",
              "├─────────────────────────────────┼────────────────────────┼───────────────┤\n",
              "│ dense (\u001b[38;5;33mDense\u001b[0m)                   │ (\u001b[38;5;45mNone\u001b[0m, \u001b[38;5;34m128\u001b[0m)            │    \u001b[38;5;34m10,485,888\u001b[0m │\n",
              "├─────────────────────────────────┼────────────────────────┼───────────────┤\n",
              "│ dropout_1 (\u001b[38;5;33mDropout\u001b[0m)             │ (\u001b[38;5;45mNone\u001b[0m, \u001b[38;5;34m128\u001b[0m)            │             \u001b[38;5;34m0\u001b[0m │\n",
              "├─────────────────────────────────┼────────────────────────┼───────────────┤\n",
              "│ dense_1 (\u001b[38;5;33mDense\u001b[0m)                 │ (\u001b[38;5;45mNone\u001b[0m, \u001b[38;5;34m10\u001b[0m)             │         \u001b[38;5;34m1,290\u001b[0m │\n",
              "└─────────────────────────────────┴────────────────────────┴───────────────┘\n"
            ],
            "text/html": [
              "<pre style=\"white-space:pre;overflow-x:auto;line-height:normal;font-family:Menlo,'DejaVu Sans Mono',consolas,'Courier New',monospace\">┏━━━━━━━━━━━━━━━━━━━━━━━━━━━━━━━━━┳━━━━━━━━━━━━━━━━━━━━━━━━┳━━━━━━━━━━━━━━━┓\n",
              "┃<span style=\"font-weight: bold\"> Layer (type)                    </span>┃<span style=\"font-weight: bold\"> Output Shape           </span>┃<span style=\"font-weight: bold\">       Param # </span>┃\n",
              "┡━━━━━━━━━━━━━━━━━━━━━━━━━━━━━━━━━╇━━━━━━━━━━━━━━━━━━━━━━━━╇━━━━━━━━━━━━━━━┩\n",
              "│ conv2d (<span style=\"color: #0087ff; text-decoration-color: #0087ff\">Conv2D</span>)                 │ (<span style=\"color: #00d7ff; text-decoration-color: #00d7ff\">None</span>, <span style=\"color: #00af00; text-decoration-color: #00af00\">128</span>, <span style=\"color: #00af00; text-decoration-color: #00af00\">1290</span>, <span style=\"color: #00af00; text-decoration-color: #00af00\">16</span>)  │           <span style=\"color: #00af00; text-decoration-color: #00af00\">160</span> │\n",
              "├─────────────────────────────────┼────────────────────────┼───────────────┤\n",
              "│ batch_normalization             │ (<span style=\"color: #00d7ff; text-decoration-color: #00d7ff\">None</span>, <span style=\"color: #00af00; text-decoration-color: #00af00\">128</span>, <span style=\"color: #00af00; text-decoration-color: #00af00\">1290</span>, <span style=\"color: #00af00; text-decoration-color: #00af00\">16</span>)  │            <span style=\"color: #00af00; text-decoration-color: #00af00\">64</span> │\n",
              "│ (<span style=\"color: #0087ff; text-decoration-color: #0087ff\">BatchNormalization</span>)            │                        │               │\n",
              "├─────────────────────────────────┼────────────────────────┼───────────────┤\n",
              "│ max_pooling2d (<span style=\"color: #0087ff; text-decoration-color: #0087ff\">MaxPooling2D</span>)    │ (<span style=\"color: #00d7ff; text-decoration-color: #00d7ff\">None</span>, <span style=\"color: #00af00; text-decoration-color: #00af00\">64</span>, <span style=\"color: #00af00; text-decoration-color: #00af00\">645</span>, <span style=\"color: #00af00; text-decoration-color: #00af00\">16</span>)    │             <span style=\"color: #00af00; text-decoration-color: #00af00\">0</span> │\n",
              "├─────────────────────────────────┼────────────────────────┼───────────────┤\n",
              "│ conv2d_1 (<span style=\"color: #0087ff; text-decoration-color: #0087ff\">Conv2D</span>)               │ (<span style=\"color: #00d7ff; text-decoration-color: #00d7ff\">None</span>, <span style=\"color: #00af00; text-decoration-color: #00af00\">64</span>, <span style=\"color: #00af00; text-decoration-color: #00af00\">645</span>, <span style=\"color: #00af00; text-decoration-color: #00af00\">32</span>)    │         <span style=\"color: #00af00; text-decoration-color: #00af00\">4,640</span> │\n",
              "├─────────────────────────────────┼────────────────────────┼───────────────┤\n",
              "│ batch_normalization_1           │ (<span style=\"color: #00d7ff; text-decoration-color: #00d7ff\">None</span>, <span style=\"color: #00af00; text-decoration-color: #00af00\">64</span>, <span style=\"color: #00af00; text-decoration-color: #00af00\">645</span>, <span style=\"color: #00af00; text-decoration-color: #00af00\">32</span>)    │           <span style=\"color: #00af00; text-decoration-color: #00af00\">128</span> │\n",
              "│ (<span style=\"color: #0087ff; text-decoration-color: #0087ff\">BatchNormalization</span>)            │                        │               │\n",
              "├─────────────────────────────────┼────────────────────────┼───────────────┤\n",
              "│ max_pooling2d_1 (<span style=\"color: #0087ff; text-decoration-color: #0087ff\">MaxPooling2D</span>)  │ (<span style=\"color: #00d7ff; text-decoration-color: #00d7ff\">None</span>, <span style=\"color: #00af00; text-decoration-color: #00af00\">32</span>, <span style=\"color: #00af00; text-decoration-color: #00af00\">322</span>, <span style=\"color: #00af00; text-decoration-color: #00af00\">32</span>)    │             <span style=\"color: #00af00; text-decoration-color: #00af00\">0</span> │\n",
              "├─────────────────────────────────┼────────────────────────┼───────────────┤\n",
              "│ conv2d_2 (<span style=\"color: #0087ff; text-decoration-color: #0087ff\">Conv2D</span>)               │ (<span style=\"color: #00d7ff; text-decoration-color: #00d7ff\">None</span>, <span style=\"color: #00af00; text-decoration-color: #00af00\">32</span>, <span style=\"color: #00af00; text-decoration-color: #00af00\">322</span>, <span style=\"color: #00af00; text-decoration-color: #00af00\">64</span>)    │        <span style=\"color: #00af00; text-decoration-color: #00af00\">18,496</span> │\n",
              "├─────────────────────────────────┼────────────────────────┼───────────────┤\n",
              "│ batch_normalization_2           │ (<span style=\"color: #00d7ff; text-decoration-color: #00d7ff\">None</span>, <span style=\"color: #00af00; text-decoration-color: #00af00\">32</span>, <span style=\"color: #00af00; text-decoration-color: #00af00\">322</span>, <span style=\"color: #00af00; text-decoration-color: #00af00\">64</span>)    │           <span style=\"color: #00af00; text-decoration-color: #00af00\">256</span> │\n",
              "│ (<span style=\"color: #0087ff; text-decoration-color: #0087ff\">BatchNormalization</span>)            │                        │               │\n",
              "├─────────────────────────────────┼────────────────────────┼───────────────┤\n",
              "│ max_pooling2d_2 (<span style=\"color: #0087ff; text-decoration-color: #0087ff\">MaxPooling2D</span>)  │ (<span style=\"color: #00d7ff; text-decoration-color: #00d7ff\">None</span>, <span style=\"color: #00af00; text-decoration-color: #00af00\">16</span>, <span style=\"color: #00af00; text-decoration-color: #00af00\">161</span>, <span style=\"color: #00af00; text-decoration-color: #00af00\">64</span>)    │             <span style=\"color: #00af00; text-decoration-color: #00af00\">0</span> │\n",
              "├─────────────────────────────────┼────────────────────────┼───────────────┤\n",
              "│ conv2d_3 (<span style=\"color: #0087ff; text-decoration-color: #0087ff\">Conv2D</span>)               │ (<span style=\"color: #00d7ff; text-decoration-color: #00d7ff\">None</span>, <span style=\"color: #00af00; text-decoration-color: #00af00\">16</span>, <span style=\"color: #00af00; text-decoration-color: #00af00\">161</span>, <span style=\"color: #00af00; text-decoration-color: #00af00\">128</span>)   │        <span style=\"color: #00af00; text-decoration-color: #00af00\">73,856</span> │\n",
              "├─────────────────────────────────┼────────────────────────┼───────────────┤\n",
              "│ batch_normalization_3           │ (<span style=\"color: #00d7ff; text-decoration-color: #00d7ff\">None</span>, <span style=\"color: #00af00; text-decoration-color: #00af00\">16</span>, <span style=\"color: #00af00; text-decoration-color: #00af00\">161</span>, <span style=\"color: #00af00; text-decoration-color: #00af00\">128</span>)   │           <span style=\"color: #00af00; text-decoration-color: #00af00\">512</span> │\n",
              "│ (<span style=\"color: #0087ff; text-decoration-color: #0087ff\">BatchNormalization</span>)            │                        │               │\n",
              "├─────────────────────────────────┼────────────────────────┼───────────────┤\n",
              "│ average_pooling2d               │ (<span style=\"color: #00d7ff; text-decoration-color: #00d7ff\">None</span>, <span style=\"color: #00af00; text-decoration-color: #00af00\">8</span>, <span style=\"color: #00af00; text-decoration-color: #00af00\">80</span>, <span style=\"color: #00af00; text-decoration-color: #00af00\">128</span>)     │             <span style=\"color: #00af00; text-decoration-color: #00af00\">0</span> │\n",
              "│ (<span style=\"color: #0087ff; text-decoration-color: #0087ff\">AveragePooling2D</span>)              │                        │               │\n",
              "├─────────────────────────────────┼────────────────────────┼───────────────┤\n",
              "│ dropout (<span style=\"color: #0087ff; text-decoration-color: #0087ff\">Dropout</span>)               │ (<span style=\"color: #00d7ff; text-decoration-color: #00d7ff\">None</span>, <span style=\"color: #00af00; text-decoration-color: #00af00\">8</span>, <span style=\"color: #00af00; text-decoration-color: #00af00\">80</span>, <span style=\"color: #00af00; text-decoration-color: #00af00\">128</span>)     │             <span style=\"color: #00af00; text-decoration-color: #00af00\">0</span> │\n",
              "├─────────────────────────────────┼────────────────────────┼───────────────┤\n",
              "│ flatten (<span style=\"color: #0087ff; text-decoration-color: #0087ff\">Flatten</span>)               │ (<span style=\"color: #00d7ff; text-decoration-color: #00d7ff\">None</span>, <span style=\"color: #00af00; text-decoration-color: #00af00\">81920</span>)          │             <span style=\"color: #00af00; text-decoration-color: #00af00\">0</span> │\n",
              "├─────────────────────────────────┼────────────────────────┼───────────────┤\n",
              "│ dense (<span style=\"color: #0087ff; text-decoration-color: #0087ff\">Dense</span>)                   │ (<span style=\"color: #00d7ff; text-decoration-color: #00d7ff\">None</span>, <span style=\"color: #00af00; text-decoration-color: #00af00\">128</span>)            │    <span style=\"color: #00af00; text-decoration-color: #00af00\">10,485,888</span> │\n",
              "├─────────────────────────────────┼────────────────────────┼───────────────┤\n",
              "│ dropout_1 (<span style=\"color: #0087ff; text-decoration-color: #0087ff\">Dropout</span>)             │ (<span style=\"color: #00d7ff; text-decoration-color: #00d7ff\">None</span>, <span style=\"color: #00af00; text-decoration-color: #00af00\">128</span>)            │             <span style=\"color: #00af00; text-decoration-color: #00af00\">0</span> │\n",
              "├─────────────────────────────────┼────────────────────────┼───────────────┤\n",
              "│ dense_1 (<span style=\"color: #0087ff; text-decoration-color: #0087ff\">Dense</span>)                 │ (<span style=\"color: #00d7ff; text-decoration-color: #00d7ff\">None</span>, <span style=\"color: #00af00; text-decoration-color: #00af00\">10</span>)             │         <span style=\"color: #00af00; text-decoration-color: #00af00\">1,290</span> │\n",
              "└─────────────────────────────────┴────────────────────────┴───────────────┘\n",
              "</pre>\n"
            ]
          },
          "metadata": {}
        },
        {
          "output_type": "display_data",
          "data": {
            "text/plain": [
              "\u001b[1m Total params: \u001b[0m\u001b[38;5;34m10,585,290\u001b[0m (40.38 MB)\n"
            ],
            "text/html": [
              "<pre style=\"white-space:pre;overflow-x:auto;line-height:normal;font-family:Menlo,'DejaVu Sans Mono',consolas,'Courier New',monospace\"><span style=\"font-weight: bold\"> Total params: </span><span style=\"color: #00af00; text-decoration-color: #00af00\">10,585,290</span> (40.38 MB)\n",
              "</pre>\n"
            ]
          },
          "metadata": {}
        },
        {
          "output_type": "display_data",
          "data": {
            "text/plain": [
              "\u001b[1m Trainable params: \u001b[0m\u001b[38;5;34m10,584,810\u001b[0m (40.38 MB)\n"
            ],
            "text/html": [
              "<pre style=\"white-space:pre;overflow-x:auto;line-height:normal;font-family:Menlo,'DejaVu Sans Mono',consolas,'Courier New',monospace\"><span style=\"font-weight: bold\"> Trainable params: </span><span style=\"color: #00af00; text-decoration-color: #00af00\">10,584,810</span> (40.38 MB)\n",
              "</pre>\n"
            ]
          },
          "metadata": {}
        },
        {
          "output_type": "display_data",
          "data": {
            "text/plain": [
              "\u001b[1m Non-trainable params: \u001b[0m\u001b[38;5;34m480\u001b[0m (1.88 KB)\n"
            ],
            "text/html": [
              "<pre style=\"white-space:pre;overflow-x:auto;line-height:normal;font-family:Menlo,'DejaVu Sans Mono',consolas,'Courier New',monospace\"><span style=\"font-weight: bold\"> Non-trainable params: </span><span style=\"color: #00af00; text-decoration-color: #00af00\">480</span> (1.88 KB)\n",
              "</pre>\n"
            ]
          },
          "metadata": {}
        },
        {
          "output_type": "stream",
          "name": "stdout",
          "text": [
            "Epoch 1/40\n",
            "\u001b[1m44/44\u001b[0m \u001b[32m━━━━━━━━━━━━━━━━━━━━\u001b[0m\u001b[37m\u001b[0m \u001b[1m0s\u001b[0m 288ms/step - accuracy: 0.2089 - loss: 7.0210\n",
            "Epoch 1: val_accuracy improved from -inf to 0.10000, saving model to models/best_model.h5\n"
          ]
        },
        {
          "output_type": "stream",
          "name": "stderr",
          "text": [
            "WARNING:absl:You are saving your model as an HDF5 file via `model.save()` or `keras.saving.save_model(model)`. This file format is considered legacy. We recommend using instead the native Keras format, e.g. `model.save('my_model.keras')` or `keras.saving.save_model(model, 'my_model.keras')`. \n"
          ]
        },
        {
          "output_type": "stream",
          "name": "stdout",
          "text": [
            "\b\b\b\b\b\b\b\b\b\b\b\b\b\b\b\b\b\b\b\b\b\b\b\b\b\b\b\b\b\b\b\b\b\b\b\b\b\b\b\b\b\b\b\b\b\b\b\b\b\b\b\b\b\b\b\b\b\b\b\b\b\b\b\b\b\b\b\b\b\b\b\b\b\b\r\u001b[1m44/44\u001b[0m \u001b[32m━━━━━━━━━━━━━━━━━━━━\u001b[0m\u001b[37m\u001b[0m \u001b[1m32s\u001b[0m 435ms/step - accuracy: 0.2096 - loss: 6.9575 - val_accuracy: 0.1000 - val_loss: 16.8369 - learning_rate: 0.0010\n",
            "Epoch 2/40\n",
            "\u001b[1m43/44\u001b[0m \u001b[32m━━━━━━━━━━━━━━━━━━━\u001b[0m\u001b[37m━\u001b[0m \u001b[1m0s\u001b[0m 54ms/step - accuracy: 0.2176 - loss: 2.2486\n",
            "Epoch 2: val_accuracy did not improve from 0.10000\n",
            "\u001b[1m44/44\u001b[0m \u001b[32m━━━━━━━━━━━━━━━━━━━━\u001b[0m\u001b[37m\u001b[0m \u001b[1m3s\u001b[0m 60ms/step - accuracy: 0.2178 - loss: 2.2471 - val_accuracy: 0.1000 - val_loss: 29.8445 - learning_rate: 0.0010\n",
            "Epoch 3/40\n",
            "\u001b[1m43/44\u001b[0m \u001b[32m━━━━━━━━━━━━━━━━━━━\u001b[0m\u001b[37m━\u001b[0m \u001b[1m0s\u001b[0m 54ms/step - accuracy: 0.3273 - loss: 1.9680\n",
            "Epoch 3: val_accuracy improved from 0.10000 to 0.13000, saving model to models/best_model.h5\n"
          ]
        },
        {
          "output_type": "stream",
          "name": "stderr",
          "text": [
            "WARNING:absl:You are saving your model as an HDF5 file via `model.save()` or `keras.saving.save_model(model)`. This file format is considered legacy. We recommend using instead the native Keras format, e.g. `model.save('my_model.keras')` or `keras.saving.save_model(model, 'my_model.keras')`. \n"
          ]
        },
        {
          "output_type": "stream",
          "name": "stdout",
          "text": [
            "\b\b\b\b\b\b\b\b\b\b\b\b\b\b\b\b\b\b\b\b\b\b\b\b\b\b\b\b\b\b\b\b\b\b\b\b\b\b\b\b\b\b\b\b\b\b\b\b\b\b\b\b\b\b\b\b\b\b\b\b\b\b\b\b\b\b\b\b\b\b\b\b\b\r\u001b[1m44/44\u001b[0m \u001b[32m━━━━━━━━━━━━━━━━━━━━\u001b[0m\u001b[37m\u001b[0m \u001b[1m3s\u001b[0m 72ms/step - accuracy: 0.3259 - loss: 1.9699 - val_accuracy: 0.1300 - val_loss: 47.9839 - learning_rate: 0.0010\n",
            "Epoch 4/40\n",
            "\u001b[1m43/44\u001b[0m \u001b[32m━━━━━━━━━━━━━━━━━━━\u001b[0m\u001b[37m━\u001b[0m \u001b[1m0s\u001b[0m 54ms/step - accuracy: 0.2872 - loss: 1.8893\n",
            "Epoch 4: val_accuracy improved from 0.13000 to 0.15667, saving model to models/best_model.h5\n"
          ]
        },
        {
          "output_type": "stream",
          "name": "stderr",
          "text": [
            "WARNING:absl:You are saving your model as an HDF5 file via `model.save()` or `keras.saving.save_model(model)`. This file format is considered legacy. We recommend using instead the native Keras format, e.g. `model.save('my_model.keras')` or `keras.saving.save_model(model, 'my_model.keras')`. \n"
          ]
        },
        {
          "output_type": "stream",
          "name": "stdout",
          "text": [
            "\b\b\b\b\b\b\b\b\b\b\b\b\b\b\b\b\b\b\b\b\b\b\b\b\b\b\b\b\b\b\b\b\b\b\b\b\b\b\b\b\b\b\b\b\b\b\b\b\b\b\b\b\b\b\b\b\b\b\b\b\b\b\b\b\b\b\b\b\b\b\b\b\b\r\u001b[1m44/44\u001b[0m \u001b[32m━━━━━━━━━━━━━━━━━━━━\u001b[0m\u001b[37m\u001b[0m \u001b[1m3s\u001b[0m 70ms/step - accuracy: 0.2881 - loss: 1.8894 - val_accuracy: 0.1567 - val_loss: 45.3717 - learning_rate: 0.0010\n",
            "Epoch 5/40\n",
            "\u001b[1m43/44\u001b[0m \u001b[32m━━━━━━━━━━━━━━━━━━━\u001b[0m\u001b[37m━\u001b[0m \u001b[1m0s\u001b[0m 56ms/step - accuracy: 0.3249 - loss: 1.9670\n",
            "Epoch 5: ReduceLROnPlateau reducing learning rate to 0.0005000000237487257.\n",
            "\n",
            "Epoch 5: val_accuracy did not improve from 0.15667\n",
            "\u001b[1m44/44\u001b[0m \u001b[32m━━━━━━━━━━━━━━━━━━━━\u001b[0m\u001b[37m\u001b[0m \u001b[1m3s\u001b[0m 62ms/step - accuracy: 0.3252 - loss: 1.9656 - val_accuracy: 0.1167 - val_loss: 65.2517 - learning_rate: 0.0010\n",
            "Epoch 6/40\n",
            "\u001b[1m43/44\u001b[0m \u001b[32m━━━━━━━━━━━━━━━━━━━\u001b[0m\u001b[37m━\u001b[0m \u001b[1m0s\u001b[0m 55ms/step - accuracy: 0.3377 - loss: 1.8401\n",
            "Epoch 6: val_accuracy did not improve from 0.15667\n",
            "\u001b[1m44/44\u001b[0m \u001b[32m━━━━━━━━━━━━━━━━━━━━\u001b[0m\u001b[37m\u001b[0m \u001b[1m5s\u001b[0m 62ms/step - accuracy: 0.3382 - loss: 1.8408 - val_accuracy: 0.1267 - val_loss: 70.8016 - learning_rate: 5.0000e-04\n",
            "Epoch 7/40\n",
            "\u001b[1m43/44\u001b[0m \u001b[32m━━━━━━━━━━━━━━━━━━━\u001b[0m\u001b[37m━\u001b[0m \u001b[1m0s\u001b[0m 55ms/step - accuracy: 0.4080 - loss: 1.6498\n",
            "Epoch 7: val_accuracy did not improve from 0.15667\n",
            "\u001b[1m44/44\u001b[0m \u001b[32m━━━━━━━━━━━━━━━━━━━━\u001b[0m\u001b[37m\u001b[0m \u001b[1m5s\u001b[0m 61ms/step - accuracy: 0.4093 - loss: 1.6460 - val_accuracy: 0.1133 - val_loss: 103.0304 - learning_rate: 5.0000e-04\n",
            "Epoch 8/40\n",
            "\u001b[1m43/44\u001b[0m \u001b[32m━━━━━━━━━━━━━━━━━━━\u001b[0m\u001b[37m━\u001b[0m \u001b[1m0s\u001b[0m 55ms/step - accuracy: 0.4500 - loss: 1.6775\n",
            "Epoch 8: val_accuracy did not improve from 0.15667\n",
            "\u001b[1m44/44\u001b[0m \u001b[32m━━━━━━━━━━━━━━━━━━━━\u001b[0m\u001b[37m\u001b[0m \u001b[1m5s\u001b[0m 61ms/step - accuracy: 0.4503 - loss: 1.6726 - val_accuracy: 0.1000 - val_loss: 149.9055 - learning_rate: 5.0000e-04\n",
            "Epoch 9/40\n",
            "\u001b[1m43/44\u001b[0m \u001b[32m━━━━━━━━━━━━━━━━━━━\u001b[0m\u001b[37m━\u001b[0m \u001b[1m0s\u001b[0m 55ms/step - accuracy: 0.5028 - loss: 1.4534\n",
            "Epoch 9: ReduceLROnPlateau reducing learning rate to 0.0002500000118743628.\n",
            "\n",
            "Epoch 9: val_accuracy did not improve from 0.15667\n",
            "\u001b[1m44/44\u001b[0m \u001b[32m━━━━━━━━━━━━━━━━━━━━\u001b[0m\u001b[37m\u001b[0m \u001b[1m5s\u001b[0m 61ms/step - accuracy: 0.5023 - loss: 1.4524 - val_accuracy: 0.1033 - val_loss: 71.3909 - learning_rate: 5.0000e-04\n",
            "Epoch 10/40\n",
            "\u001b[1m43/44\u001b[0m \u001b[32m━━━━━━━━━━━━━━━━━━━\u001b[0m\u001b[37m━\u001b[0m \u001b[1m0s\u001b[0m 54ms/step - accuracy: 0.5325 - loss: 1.3982\n",
            "Epoch 10: val_accuracy improved from 0.15667 to 0.18333, saving model to models/best_model.h5\n"
          ]
        },
        {
          "output_type": "stream",
          "name": "stderr",
          "text": [
            "WARNING:absl:You are saving your model as an HDF5 file via `model.save()` or `keras.saving.save_model(model)`. This file format is considered legacy. We recommend using instead the native Keras format, e.g. `model.save('my_model.keras')` or `keras.saving.save_model(model, 'my_model.keras')`. \n"
          ]
        },
        {
          "output_type": "stream",
          "name": "stdout",
          "text": [
            "\b\b\b\b\b\b\b\b\b\b\b\b\b\b\b\b\b\b\b\b\b\b\b\b\b\b\b\b\b\b\b\b\b\b\b\b\b\b\b\b\b\b\b\b\b\b\b\b\b\b\b\b\b\b\b\b\b\b\b\b\b\b\b\b\b\b\b\b\b\b\b\b\b\r\u001b[1m44/44\u001b[0m \u001b[32m━━━━━━━━━━━━━━━━━━━━\u001b[0m\u001b[37m\u001b[0m \u001b[1m6s\u001b[0m 71ms/step - accuracy: 0.5333 - loss: 1.3979 - val_accuracy: 0.1833 - val_loss: 16.0063 - learning_rate: 2.5000e-04\n",
            "Epoch 11/40\n",
            "\u001b[1m43/44\u001b[0m \u001b[32m━━━━━━━━━━━━━━━━━━━\u001b[0m\u001b[37m━\u001b[0m \u001b[1m0s\u001b[0m 54ms/step - accuracy: 0.6160 - loss: 1.1610\n",
            "Epoch 11: val_accuracy improved from 0.18333 to 0.29000, saving model to models/best_model.h5\n"
          ]
        },
        {
          "output_type": "stream",
          "name": "stderr",
          "text": [
            "WARNING:absl:You are saving your model as an HDF5 file via `model.save()` or `keras.saving.save_model(model)`. This file format is considered legacy. We recommend using instead the native Keras format, e.g. `model.save('my_model.keras')` or `keras.saving.save_model(model, 'my_model.keras')`. \n"
          ]
        },
        {
          "output_type": "stream",
          "name": "stdout",
          "text": [
            "\b\b\b\b\b\b\b\b\b\b\b\b\b\b\b\b\b\b\b\b\b\b\b\b\b\b\b\b\b\b\b\b\b\b\b\b\b\b\b\b\b\b\b\b\b\b\b\b\b\b\b\b\b\b\b\b\b\b\b\b\b\b\b\b\b\b\b\b\b\b\b\b\b\r\u001b[1m44/44\u001b[0m \u001b[32m━━━━━━━━━━━━━━━━━━━━\u001b[0m\u001b[37m\u001b[0m \u001b[1m3s\u001b[0m 71ms/step - accuracy: 0.6162 - loss: 1.1591 - val_accuracy: 0.2900 - val_loss: 11.0817 - learning_rate: 2.5000e-04\n",
            "Epoch 12/40\n",
            "\u001b[1m43/44\u001b[0m \u001b[32m━━━━━━━━━━━━━━━━━━━\u001b[0m\u001b[37m━\u001b[0m \u001b[1m0s\u001b[0m 54ms/step - accuracy: 0.6068 - loss: 1.0139\n",
            "Epoch 12: val_accuracy did not improve from 0.29000\n",
            "\u001b[1m44/44\u001b[0m \u001b[32m━━━━━━━━━━━━━━━━━━━━\u001b[0m\u001b[37m\u001b[0m \u001b[1m3s\u001b[0m 60ms/step - accuracy: 0.6077 - loss: 1.0127 - val_accuracy: 0.2600 - val_loss: 8.3173 - learning_rate: 2.5000e-04\n",
            "Epoch 13/40\n",
            "\u001b[1m43/44\u001b[0m \u001b[32m━━━━━━━━━━━━━━━━━━━\u001b[0m\u001b[37m━\u001b[0m \u001b[1m0s\u001b[0m 55ms/step - accuracy: 0.6471 - loss: 0.9098\n",
            "Epoch 13: val_accuracy improved from 0.29000 to 0.36333, saving model to models/best_model.h5\n"
          ]
        },
        {
          "output_type": "stream",
          "name": "stderr",
          "text": [
            "WARNING:absl:You are saving your model as an HDF5 file via `model.save()` or `keras.saving.save_model(model)`. This file format is considered legacy. We recommend using instead the native Keras format, e.g. `model.save('my_model.keras')` or `keras.saving.save_model(model, 'my_model.keras')`. \n"
          ]
        },
        {
          "output_type": "stream",
          "name": "stdout",
          "text": [
            "\b\b\b\b\b\b\b\b\b\b\b\b\b\b\b\b\b\b\b\b\b\b\b\b\b\b\b\b\b\b\b\b\b\b\b\b\b\b\b\b\b\b\b\b\b\b\b\b\b\b\b\b\b\b\b\b\b\b\b\b\b\b\b\b\b\b\b\b\b\b\b\b\b\r\u001b[1m44/44\u001b[0m \u001b[32m━━━━━━━━━━━━━━━━━━━━\u001b[0m\u001b[37m\u001b[0m \u001b[1m6s\u001b[0m 72ms/step - accuracy: 0.6481 - loss: 0.9100 - val_accuracy: 0.3633 - val_loss: 7.7750 - learning_rate: 2.5000e-04\n",
            "Epoch 14/40\n",
            "\u001b[1m43/44\u001b[0m \u001b[32m━━━━━━━━━━━━━━━━━━━\u001b[0m\u001b[37m━\u001b[0m \u001b[1m0s\u001b[0m 55ms/step - accuracy: 0.7248 - loss: 0.8341\n",
            "Epoch 14: val_accuracy improved from 0.36333 to 0.47667, saving model to models/best_model.h5\n"
          ]
        },
        {
          "output_type": "stream",
          "name": "stderr",
          "text": [
            "WARNING:absl:You are saving your model as an HDF5 file via `model.save()` or `keras.saving.save_model(model)`. This file format is considered legacy. We recommend using instead the native Keras format, e.g. `model.save('my_model.keras')` or `keras.saving.save_model(model, 'my_model.keras')`. \n"
          ]
        },
        {
          "output_type": "stream",
          "name": "stdout",
          "text": [
            "\b\b\b\b\b\b\b\b\b\b\b\b\b\b\b\b\b\b\b\b\b\b\b\b\b\b\b\b\b\b\b\b\b\b\b\b\b\b\b\b\b\b\b\b\b\b\b\b\b\b\b\b\b\b\b\b\b\b\b\b\b\b\b\b\b\b\b\b\b\b\b\b\b\r\u001b[1m44/44\u001b[0m \u001b[32m━━━━━━━━━━━━━━━━━━━━\u001b[0m\u001b[37m\u001b[0m \u001b[1m5s\u001b[0m 72ms/step - accuracy: 0.7243 - loss: 0.8334 - val_accuracy: 0.4767 - val_loss: 2.6587 - learning_rate: 2.5000e-04\n",
            "Epoch 15/40\n",
            "\u001b[1m43/44\u001b[0m \u001b[32m━━━━━━━━━━━━━━━━━━━\u001b[0m\u001b[37m━\u001b[0m \u001b[1m0s\u001b[0m 55ms/step - accuracy: 0.7355 - loss: 0.7649\n",
            "Epoch 15: val_accuracy improved from 0.47667 to 0.50667, saving model to models/best_model.h5\n"
          ]
        },
        {
          "output_type": "stream",
          "name": "stderr",
          "text": [
            "WARNING:absl:You are saving your model as an HDF5 file via `model.save()` or `keras.saving.save_model(model)`. This file format is considered legacy. We recommend using instead the native Keras format, e.g. `model.save('my_model.keras')` or `keras.saving.save_model(model, 'my_model.keras')`. \n"
          ]
        },
        {
          "output_type": "stream",
          "name": "stdout",
          "text": [
            "\b\b\b\b\b\b\b\b\b\b\b\b\b\b\b\b\b\b\b\b\b\b\b\b\b\b\b\b\b\b\b\b\b\b\b\b\b\b\b\b\b\b\b\b\b\b\b\b\b\b\b\b\b\b\b\b\b\b\b\b\b\b\b\b\b\b\b\b\b\b\b\b\b\r\u001b[1m44/44\u001b[0m \u001b[32m━━━━━━━━━━━━━━━━━━━━\u001b[0m\u001b[37m\u001b[0m \u001b[1m3s\u001b[0m 77ms/step - accuracy: 0.7358 - loss: 0.7617 - val_accuracy: 0.5067 - val_loss: 2.6535 - learning_rate: 2.5000e-04\n",
            "Epoch 16/40\n",
            "\u001b[1m43/44\u001b[0m \u001b[32m━━━━━━━━━━━━━━━━━━━\u001b[0m\u001b[37m━\u001b[0m \u001b[1m0s\u001b[0m 54ms/step - accuracy: 0.8125 - loss: 0.5269\n",
            "Epoch 16: val_accuracy improved from 0.50667 to 0.54667, saving model to models/best_model.h5\n"
          ]
        },
        {
          "output_type": "stream",
          "name": "stderr",
          "text": [
            "WARNING:absl:You are saving your model as an HDF5 file via `model.save()` or `keras.saving.save_model(model)`. This file format is considered legacy. We recommend using instead the native Keras format, e.g. `model.save('my_model.keras')` or `keras.saving.save_model(model, 'my_model.keras')`. \n"
          ]
        },
        {
          "output_type": "stream",
          "name": "stdout",
          "text": [
            "\b\b\b\b\b\b\b\b\b\b\b\b\b\b\b\b\b\b\b\b\b\b\b\b\b\b\b\b\b\b\b\b\b\b\b\b\b\b\b\b\b\b\b\b\b\b\b\b\b\b\b\b\b\b\b\b\b\b\b\b\b\b\b\b\b\b\b\b\b\b\b\b\b\r\u001b[1m44/44\u001b[0m \u001b[32m━━━━━━━━━━━━━━━━━━━━\u001b[0m\u001b[37m\u001b[0m \u001b[1m3s\u001b[0m 71ms/step - accuracy: 0.8125 - loss: 0.5259 - val_accuracy: 0.5467 - val_loss: 2.2527 - learning_rate: 2.5000e-04\n",
            "Epoch 17/40\n",
            "\u001b[1m43/44\u001b[0m \u001b[32m━━━━━━━━━━━━━━━━━━━\u001b[0m\u001b[37m━\u001b[0m \u001b[1m0s\u001b[0m 54ms/step - accuracy: 0.8156 - loss: 0.4533\n",
            "Epoch 17: val_accuracy improved from 0.54667 to 0.58667, saving model to models/best_model.h5\n"
          ]
        },
        {
          "output_type": "stream",
          "name": "stderr",
          "text": [
            "WARNING:absl:You are saving your model as an HDF5 file via `model.save()` or `keras.saving.save_model(model)`. This file format is considered legacy. We recommend using instead the native Keras format, e.g. `model.save('my_model.keras')` or `keras.saving.save_model(model, 'my_model.keras')`. \n"
          ]
        },
        {
          "output_type": "stream",
          "name": "stdout",
          "text": [
            "\b\b\b\b\b\b\b\b\b\b\b\b\b\b\b\b\b\b\b\b\b\b\b\b\b\b\b\b\b\b\b\b\b\b\b\b\b\b\b\b\b\b\b\b\b\b\b\b\b\b\b\b\b\b\b\b\b\b\b\b\b\b\b\b\b\b\b\b\b\b\b\b\b\r\u001b[1m44/44\u001b[0m \u001b[32m━━━━━━━━━━━━━━━━━━━━\u001b[0m\u001b[37m\u001b[0m \u001b[1m3s\u001b[0m 72ms/step - accuracy: 0.8166 - loss: 0.4526 - val_accuracy: 0.5867 - val_loss: 2.0697 - learning_rate: 2.5000e-04\n",
            "Epoch 18/40\n",
            "\u001b[1m43/44\u001b[0m \u001b[32m━━━━━━━━━━━━━━━━━━━\u001b[0m\u001b[37m━\u001b[0m \u001b[1m0s\u001b[0m 54ms/step - accuracy: 0.8760 - loss: 0.3692\n",
            "Epoch 18: val_accuracy improved from 0.58667 to 0.61000, saving model to models/best_model.h5\n"
          ]
        },
        {
          "output_type": "stream",
          "name": "stderr",
          "text": [
            "WARNING:absl:You are saving your model as an HDF5 file via `model.save()` or `keras.saving.save_model(model)`. This file format is considered legacy. We recommend using instead the native Keras format, e.g. `model.save('my_model.keras')` or `keras.saving.save_model(model, 'my_model.keras')`. \n"
          ]
        },
        {
          "output_type": "stream",
          "name": "stdout",
          "text": [
            "\b\b\b\b\b\b\b\b\b\b\b\b\b\b\b\b\b\b\b\b\b\b\b\b\b\b\b\b\b\b\b\b\b\b\b\b\b\b\b\b\b\b\b\b\b\b\b\b\b\b\b\b\b\b\b\b\b\b\b\b\b\b\b\b\b\b\b\b\b\b\b\b\b\r\u001b[1m44/44\u001b[0m \u001b[32m━━━━━━━━━━━━━━━━━━━━\u001b[0m\u001b[37m\u001b[0m \u001b[1m3s\u001b[0m 71ms/step - accuracy: 0.8752 - loss: 0.3707 - val_accuracy: 0.6100 - val_loss: 1.5891 - learning_rate: 2.5000e-04\n",
            "Epoch 19/40\n",
            "\u001b[1m43/44\u001b[0m \u001b[32m━━━━━━━━━━━━━━━━━━━\u001b[0m\u001b[37m━\u001b[0m \u001b[1m0s\u001b[0m 56ms/step - accuracy: 0.8741 - loss: 0.3748\n",
            "Epoch 19: val_accuracy improved from 0.61000 to 0.62667, saving model to models/best_model.h5\n"
          ]
        },
        {
          "output_type": "stream",
          "name": "stderr",
          "text": [
            "WARNING:absl:You are saving your model as an HDF5 file via `model.save()` or `keras.saving.save_model(model)`. This file format is considered legacy. We recommend using instead the native Keras format, e.g. `model.save('my_model.keras')` or `keras.saving.save_model(model, 'my_model.keras')`. \n"
          ]
        },
        {
          "output_type": "stream",
          "name": "stdout",
          "text": [
            "\b\b\b\b\b\b\b\b\b\b\b\b\b\b\b\b\b\b\b\b\b\b\b\b\b\b\b\b\b\b\b\b\b\b\b\b\b\b\b\b\b\b\b\b\b\b\b\b\b\b\b\b\b\b\b\b\b\b\b\b\b\b\b\b\b\b\b\b\b\b\b\b\b\r\u001b[1m44/44\u001b[0m \u001b[32m━━━━━━━━━━━━━━━━━━━━\u001b[0m\u001b[37m\u001b[0m \u001b[1m3s\u001b[0m 73ms/step - accuracy: 0.8739 - loss: 0.3735 - val_accuracy: 0.6267 - val_loss: 1.9547 - learning_rate: 2.5000e-04\n",
            "Epoch 20/40\n",
            "\u001b[1m43/44\u001b[0m \u001b[32m━━━━━━━━━━━━━━━━━━━\u001b[0m\u001b[37m━\u001b[0m \u001b[1m0s\u001b[0m 55ms/step - accuracy: 0.8880 - loss: 0.3354\n",
            "Epoch 20: val_accuracy did not improve from 0.62667\n",
            "\u001b[1m44/44\u001b[0m \u001b[32m━━━━━━━━━━━━━━━━━━━━\u001b[0m\u001b[37m\u001b[0m \u001b[1m5s\u001b[0m 61ms/step - accuracy: 0.8882 - loss: 0.3337 - val_accuracy: 0.5667 - val_loss: 2.0637 - learning_rate: 2.5000e-04\n",
            "Epoch 21/40\n",
            "\u001b[1m43/44\u001b[0m \u001b[32m━━━━━━━━━━━━━━━━━━━\u001b[0m\u001b[37m━\u001b[0m \u001b[1m0s\u001b[0m 55ms/step - accuracy: 0.8996 - loss: 0.2727\n",
            "Epoch 21: val_accuracy improved from 0.62667 to 0.65333, saving model to models/best_model.h5\n"
          ]
        },
        {
          "output_type": "stream",
          "name": "stderr",
          "text": [
            "WARNING:absl:You are saving your model as an HDF5 file via `model.save()` or `keras.saving.save_model(model)`. This file format is considered legacy. We recommend using instead the native Keras format, e.g. `model.save('my_model.keras')` or `keras.saving.save_model(model, 'my_model.keras')`. \n"
          ]
        },
        {
          "output_type": "stream",
          "name": "stdout",
          "text": [
            "\b\b\b\b\b\b\b\b\b\b\b\b\b\b\b\b\b\b\b\b\b\b\b\b\b\b\b\b\b\b\b\b\b\b\b\b\b\b\b\b\b\b\b\b\b\b\b\b\b\b\b\b\b\b\b\b\b\b\b\b\b\b\b\b\b\b\b\b\b\b\b\b\b\r\u001b[1m44/44\u001b[0m \u001b[32m━━━━━━━━━━━━━━━━━━━━\u001b[0m\u001b[37m\u001b[0m \u001b[1m6s\u001b[0m 74ms/step - accuracy: 0.9000 - loss: 0.2721 - val_accuracy: 0.6533 - val_loss: 1.8245 - learning_rate: 2.5000e-04\n",
            "Epoch 22/40\n",
            "\u001b[1m43/44\u001b[0m \u001b[32m━━━━━━━━━━━━━━━━━━━\u001b[0m\u001b[37m━\u001b[0m \u001b[1m0s\u001b[0m 55ms/step - accuracy: 0.9233 - loss: 0.2093\n",
            "Epoch 22: ReduceLROnPlateau reducing learning rate to 0.0001250000059371814.\n",
            "\n",
            "Epoch 22: val_accuracy improved from 0.65333 to 0.66667, saving model to models/best_model.h5\n"
          ]
        },
        {
          "output_type": "stream",
          "name": "stderr",
          "text": [
            "WARNING:absl:You are saving your model as an HDF5 file via `model.save()` or `keras.saving.save_model(model)`. This file format is considered legacy. We recommend using instead the native Keras format, e.g. `model.save('my_model.keras')` or `keras.saving.save_model(model, 'my_model.keras')`. \n"
          ]
        },
        {
          "output_type": "stream",
          "name": "stdout",
          "text": [
            "\b\b\b\b\b\b\b\b\b\b\b\b\b\b\b\b\b\b\b\b\b\b\b\b\b\b\b\b\b\b\b\b\b\b\b\b\b\b\b\b\b\b\b\b\b\b\b\b\b\b\b\b\b\b\b\b\b\b\b\b\b\b\b\b\b\b\b\b\b\b\b\b\b\r\u001b[1m44/44\u001b[0m \u001b[32m━━━━━━━━━━━━━━━━━━━━\u001b[0m\u001b[37m\u001b[0m \u001b[1m5s\u001b[0m 73ms/step - accuracy: 0.9235 - loss: 0.2087 - val_accuracy: 0.6667 - val_loss: 1.6506 - learning_rate: 2.5000e-04\n",
            "Epoch 23/40\n",
            "\u001b[1m43/44\u001b[0m \u001b[32m━━━━━━━━━━━━━━━━━━━\u001b[0m\u001b[37m━\u001b[0m \u001b[1m0s\u001b[0m 54ms/step - accuracy: 0.9350 - loss: 0.1962\n",
            "Epoch 23: val_accuracy improved from 0.66667 to 0.70000, saving model to models/best_model.h5\n"
          ]
        },
        {
          "output_type": "stream",
          "name": "stderr",
          "text": [
            "WARNING:absl:You are saving your model as an HDF5 file via `model.save()` or `keras.saving.save_model(model)`. This file format is considered legacy. We recommend using instead the native Keras format, e.g. `model.save('my_model.keras')` or `keras.saving.save_model(model, 'my_model.keras')`. \n"
          ]
        },
        {
          "output_type": "stream",
          "name": "stdout",
          "text": [
            "\b\b\b\b\b\b\b\b\b\b\b\b\b\b\b\b\b\b\b\b\b\b\b\b\b\b\b\b\b\b\b\b\b\b\b\b\b\b\b\b\b\b\b\b\b\b\b\b\b\b\b\b\b\b\b\b\b\b\b\b\b\b\b\b\b\b\b\b\b\b\b\b\b\r\u001b[1m44/44\u001b[0m \u001b[32m━━━━━━━━━━━━━━━━━━━━\u001b[0m\u001b[37m\u001b[0m \u001b[1m3s\u001b[0m 73ms/step - accuracy: 0.9355 - loss: 0.1951 - val_accuracy: 0.7000 - val_loss: 1.3499 - learning_rate: 1.2500e-04\n",
            "Epoch 24/40\n",
            "\u001b[1m43/44\u001b[0m \u001b[32m━━━━━━━━━━━━━━━━━━━\u001b[0m\u001b[37m━\u001b[0m \u001b[1m0s\u001b[0m 54ms/step - accuracy: 0.9466 - loss: 0.1287\n",
            "Epoch 24: val_accuracy improved from 0.70000 to 0.70333, saving model to models/best_model.h5\n"
          ]
        },
        {
          "output_type": "stream",
          "name": "stderr",
          "text": [
            "WARNING:absl:You are saving your model as an HDF5 file via `model.save()` or `keras.saving.save_model(model)`. This file format is considered legacy. We recommend using instead the native Keras format, e.g. `model.save('my_model.keras')` or `keras.saving.save_model(model, 'my_model.keras')`. \n"
          ]
        },
        {
          "output_type": "stream",
          "name": "stdout",
          "text": [
            "\b\b\b\b\b\b\b\b\b\b\b\b\b\b\b\b\b\b\b\b\b\b\b\b\b\b\b\b\b\b\b\b\b\b\b\b\b\b\b\b\b\b\b\b\b\b\b\b\b\b\b\b\b\b\b\b\b\b\b\b\b\b\b\b\b\b\b\b\b\b\b\b\b\r\u001b[1m44/44\u001b[0m \u001b[32m━━━━━━━━━━━━━━━━━━━━\u001b[0m\u001b[37m\u001b[0m \u001b[1m3s\u001b[0m 74ms/step - accuracy: 0.9463 - loss: 0.1301 - val_accuracy: 0.7033 - val_loss: 1.6834 - learning_rate: 1.2500e-04\n",
            "Epoch 25/40\n",
            "\u001b[1m43/44\u001b[0m \u001b[32m━━━━━━━━━━━━━━━━━━━\u001b[0m\u001b[37m━\u001b[0m \u001b[1m0s\u001b[0m 56ms/step - accuracy: 0.9711 - loss: 0.0853\n",
            "Epoch 25: val_accuracy improved from 0.70333 to 0.74333, saving model to models/best_model.h5\n"
          ]
        },
        {
          "output_type": "stream",
          "name": "stderr",
          "text": [
            "WARNING:absl:You are saving your model as an HDF5 file via `model.save()` or `keras.saving.save_model(model)`. This file format is considered legacy. We recommend using instead the native Keras format, e.g. `model.save('my_model.keras')` or `keras.saving.save_model(model, 'my_model.keras')`. \n"
          ]
        },
        {
          "output_type": "stream",
          "name": "stdout",
          "text": [
            "\b\b\b\b\b\b\b\b\b\b\b\b\b\b\b\b\b\b\b\b\b\b\b\b\b\b\b\b\b\b\b\b\b\b\b\b\b\b\b\b\b\b\b\b\b\b\b\b\b\b\b\b\b\b\b\b\b\b\b\b\b\b\b\b\b\b\b\b\b\b\b\b\b\r\u001b[1m44/44\u001b[0m \u001b[32m━━━━━━━━━━━━━━━━━━━━\u001b[0m\u001b[37m\u001b[0m \u001b[1m3s\u001b[0m 72ms/step - accuracy: 0.9709 - loss: 0.0855 - val_accuracy: 0.7433 - val_loss: 1.4772 - learning_rate: 1.2500e-04\n",
            "Epoch 26/40\n",
            "\u001b[1m43/44\u001b[0m \u001b[32m━━━━━━━━━━━━━━━━━━━\u001b[0m\u001b[37m━\u001b[0m \u001b[1m0s\u001b[0m 55ms/step - accuracy: 0.9441 - loss: 0.2056\n",
            "Epoch 26: val_accuracy improved from 0.74333 to 0.75000, saving model to models/best_model.h5\n"
          ]
        },
        {
          "output_type": "stream",
          "name": "stderr",
          "text": [
            "WARNING:absl:You are saving your model as an HDF5 file via `model.save()` or `keras.saving.save_model(model)`. This file format is considered legacy. We recommend using instead the native Keras format, e.g. `model.save('my_model.keras')` or `keras.saving.save_model(model, 'my_model.keras')`. \n"
          ]
        },
        {
          "output_type": "stream",
          "name": "stdout",
          "text": [
            "\b\b\b\b\b\b\b\b\b\b\b\b\b\b\b\b\b\b\b\b\b\b\b\b\b\b\b\b\b\b\b\b\b\b\b\b\b\b\b\b\b\b\b\b\b\b\b\b\b\b\b\b\b\b\b\b\b\b\b\b\b\b\b\b\b\b\b\b\b\b\b\b\b\r\u001b[1m44/44\u001b[0m \u001b[32m━━━━━━━━━━━━━━━━━━━━\u001b[0m\u001b[37m\u001b[0m \u001b[1m5s\u001b[0m 72ms/step - accuracy: 0.9445 - loss: 0.2028 - val_accuracy: 0.7500 - val_loss: 1.3418 - learning_rate: 1.2500e-04\n",
            "Epoch 27/40\n",
            "\u001b[1m43/44\u001b[0m \u001b[32m━━━━━━━━━━━━━━━━━━━\u001b[0m\u001b[37m━\u001b[0m \u001b[1m0s\u001b[0m 56ms/step - accuracy: 0.9562 - loss: 0.1468\n",
            "Epoch 27: val_accuracy did not improve from 0.75000\n",
            "\u001b[1m44/44\u001b[0m \u001b[32m━━━━━━━━━━━━━━━━━━━━\u001b[0m\u001b[37m\u001b[0m \u001b[1m5s\u001b[0m 64ms/step - accuracy: 0.9560 - loss: 0.1469 - val_accuracy: 0.7033 - val_loss: 1.6720 - learning_rate: 1.2500e-04\n",
            "Epoch 28/40\n",
            "\u001b[1m43/44\u001b[0m \u001b[32m━━━━━━━━━━━━━━━━━━━\u001b[0m\u001b[37m━\u001b[0m \u001b[1m0s\u001b[0m 56ms/step - accuracy: 0.9421 - loss: 0.1261\n",
            "Epoch 28: val_accuracy did not improve from 0.75000\n",
            "\u001b[1m44/44\u001b[0m \u001b[32m━━━━━━━━━━━━━━━━━━━━\u001b[0m\u001b[37m\u001b[0m \u001b[1m5s\u001b[0m 62ms/step - accuracy: 0.9427 - loss: 0.1254 - val_accuracy: 0.7367 - val_loss: 1.5549 - learning_rate: 1.2500e-04\n",
            "Epoch 29/40\n",
            "\u001b[1m43/44\u001b[0m \u001b[32m━━━━━━━━━━━━━━━━━━━\u001b[0m\u001b[37m━\u001b[0m \u001b[1m0s\u001b[0m 55ms/step - accuracy: 0.9820 - loss: 0.0706\n",
            "Epoch 29: val_accuracy did not improve from 0.75000\n",
            "\u001b[1m44/44\u001b[0m \u001b[32m━━━━━━━━━━━━━━━━━━━━\u001b[0m\u001b[37m\u001b[0m \u001b[1m5s\u001b[0m 63ms/step - accuracy: 0.9812 - loss: 0.0726 - val_accuracy: 0.6867 - val_loss: 1.5451 - learning_rate: 1.2500e-04\n",
            "Epoch 30/40\n",
            "\u001b[1m43/44\u001b[0m \u001b[32m━━━━━━━━━━━━━━━━━━━\u001b[0m\u001b[37m━\u001b[0m \u001b[1m0s\u001b[0m 56ms/step - accuracy: 0.9727 - loss: 0.0919\n",
            "Epoch 30: ReduceLROnPlateau reducing learning rate to 6.25000029685907e-05.\n",
            "\n",
            "Epoch 30: val_accuracy did not improve from 0.75000\n",
            "\u001b[1m44/44\u001b[0m \u001b[32m━━━━━━━━━━━━━━━━━━━━\u001b[0m\u001b[37m\u001b[0m \u001b[1m3s\u001b[0m 64ms/step - accuracy: 0.9728 - loss: 0.0917 - val_accuracy: 0.7133 - val_loss: 1.6669 - learning_rate: 1.2500e-04\n",
            "Epoch 31/40\n",
            "\u001b[1m43/44\u001b[0m \u001b[32m━━━━━━━━━━━━━━━━━━━\u001b[0m\u001b[37m━\u001b[0m \u001b[1m0s\u001b[0m 55ms/step - accuracy: 0.9699 - loss: 0.0858\n",
            "Epoch 31: val_accuracy did not improve from 0.75000\n",
            "\u001b[1m44/44\u001b[0m \u001b[32m━━━━━━━━━━━━━━━━━━━━\u001b[0m\u001b[37m\u001b[0m \u001b[1m5s\u001b[0m 61ms/step - accuracy: 0.9698 - loss: 0.0856 - val_accuracy: 0.7367 - val_loss: 1.4753 - learning_rate: 6.2500e-05\n",
            "Epoch 32/40\n",
            "\u001b[1m43/44\u001b[0m \u001b[32m━━━━━━━━━━━━━━━━━━━\u001b[0m\u001b[37m━\u001b[0m \u001b[1m0s\u001b[0m 54ms/step - accuracy: 0.9715 - loss: 0.0823\n",
            "Epoch 32: val_accuracy did not improve from 0.75000\n",
            "\u001b[1m44/44\u001b[0m \u001b[32m━━━━━━━━━━━━━━━━━━━━\u001b[0m\u001b[37m\u001b[0m \u001b[1m3s\u001b[0m 61ms/step - accuracy: 0.9714 - loss: 0.0828 - val_accuracy: 0.7400 - val_loss: 1.3696 - learning_rate: 6.2500e-05\n",
            "Epoch 33/40\n",
            "\u001b[1m43/44\u001b[0m \u001b[32m━━━━━━━━━━━━━━━━━━━\u001b[0m\u001b[37m━\u001b[0m \u001b[1m0s\u001b[0m 57ms/step - accuracy: 0.9652 - loss: 0.0883\n",
            "Epoch 33: val_accuracy did not improve from 0.75000\n",
            "\u001b[1m44/44\u001b[0m \u001b[32m━━━━━━━━━━━━━━━━━━━━\u001b[0m\u001b[37m\u001b[0m \u001b[1m5s\u001b[0m 64ms/step - accuracy: 0.9653 - loss: 0.0880 - val_accuracy: 0.7233 - val_loss: 1.6107 - learning_rate: 6.2500e-05\n",
            "Epoch 34/40\n",
            "\u001b[1m43/44\u001b[0m \u001b[32m━━━━━━━━━━━━━━━━━━━\u001b[0m\u001b[37m━\u001b[0m \u001b[1m0s\u001b[0m 55ms/step - accuracy: 0.9769 - loss: 0.0473\n",
            "Epoch 34: ReduceLROnPlateau reducing learning rate to 3.125000148429535e-05.\n",
            "\n",
            "Epoch 34: val_accuracy did not improve from 0.75000\n",
            "\u001b[1m44/44\u001b[0m \u001b[32m━━━━━━━━━━━━━━━━━━━━\u001b[0m\u001b[37m\u001b[0m \u001b[1m5s\u001b[0m 63ms/step - accuracy: 0.9768 - loss: 0.0475 - val_accuracy: 0.7233 - val_loss: 1.4730 - learning_rate: 6.2500e-05\n",
            "Epoch 34: early stopping\n",
            "Restoring model weights from the end of the best epoch: 26.\n",
            "✅ Training complete. Best model -> models/best_model.h5\n",
            "\u001b[1m10/10\u001b[0m \u001b[32m━━━━━━━━━━━━━━━━━━━━\u001b[0m\u001b[37m\u001b[0m \u001b[1m3s\u001b[0m 81ms/step\n",
            "\n",
            "Test Accuracy: 0.7500\n",
            "\n",
            "Classification Report:\n",
            "              precision    recall  f1-score   support\n",
            "\n",
            "       blues       0.62      0.60      0.61        30\n",
            "   classical       0.90      0.93      0.92        30\n",
            "     country       0.67      0.67      0.67        30\n",
            "       disco       0.69      0.60      0.64        30\n",
            "      hiphop       0.83      0.80      0.81        30\n",
            "        jazz       0.82      0.90      0.86        30\n",
            "       metal       0.88      0.97      0.92        30\n",
            "         pop       0.74      0.93      0.82        30\n",
            "      reggae       0.69      0.73      0.71        30\n",
            "        rock       0.58      0.37      0.45        30\n",
            "\n",
            "    accuracy                           0.75       300\n",
            "   macro avg       0.74      0.75      0.74       300\n",
            "weighted avg       0.74      0.75      0.74       300\n",
            "\n",
            "Confusion Matrix:\n",
            "[[18  0  3  0  2  2  0  0  3  2]\n",
            " [ 1 28  0  0  0  0  0  0  0  1]\n",
            " [ 4  1 20  1  0  2  0  1  0  1]\n",
            " [ 2  1  0 18  2  0  0  4  2  1]\n",
            " [ 0  0  0  1 24  0  2  0  3  0]\n",
            " [ 1  1  1  0  0 27  0  0  0  0]\n",
            " [ 0  0  0  0  0  0 29  0  0  1]\n",
            " [ 0  0  1  0  0  0  0 28  0  1]\n",
            " [ 0  0  1  4  1  0  0  1 22  1]\n",
            " [ 3  0  4  2  0  2  2  4  2 11]]\n"
          ]
        }
      ]
    },
    {
      "cell_type": "code",
      "source": [
        "import matplotlib.pyplot as plt\n",
        "\n",
        "def plot_training_curves(history):\n",
        "    \"\"\"Plot accuracy and loss curves from Keras history.\"\"\"\n",
        "    plt.figure(figsize=(12,5))\n",
        "\n",
        "    # Accuracy\n",
        "    plt.subplot(1,2,1)\n",
        "    plt.plot(history.history['accuracy'], label='Train Acc')\n",
        "    plt.plot(history.history['val_accuracy'], label='Val Acc')\n",
        "    plt.xlabel('Epochs')\n",
        "    plt.ylabel('Accuracy')\n",
        "    plt.title('Accuracy over Epochs')\n",
        "    plt.legend()\n",
        "\n",
        "    # Loss\n",
        "    plt.subplot(1,2,2)\n",
        "    plt.plot(history.history['loss'], label='Train Loss')\n",
        "    plt.plot(history.history['val_loss'], label='Val Loss')\n",
        "    plt.xlabel('Epochs')\n",
        "    plt.ylabel('Loss')\n",
        "    plt.title('Loss over Epochs')\n",
        "    plt.legend()\n",
        "\n",
        "    plt.tight_layout()\n",
        "    plt.show()\n",
        "\n",
        "plot_training_curves(history)\n"
      ],
      "metadata": {
        "colab": {
          "base_uri": "https://localhost:8080/",
          "height": 276
        },
        "id": "kpVI3loYguwF",
        "outputId": "c4d270d0-c116-4ce2-fde9-ca0edc0114b2"
      },
      "execution_count": null,
      "outputs": [
        {
          "output_type": "display_data",
          "data": {
            "text/plain": [
              "<Figure size 1200x500 with 2 Axes>"
            ],
            "image/png": "[encoded data removed]"
          },
          "metadata": {}
        }
      ]
    }
  ]
}